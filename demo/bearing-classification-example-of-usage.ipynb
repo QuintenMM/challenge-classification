{
 "cells": [
  {
   "cell_type": "code",
   "execution_count": 1,
   "id": "mature-interaction",
   "metadata": {
    "_cell_guid": "b1076dfc-b9ad-4769-8c92-a6c4dae69d19",
    "_uuid": "8f2839f25d086af736a60e9eeb907d3b93b6e0e5",
    "execution": {
     "iopub.execute_input": "2021-06-06T00:08:39.893481Z",
     "iopub.status.busy": "2021-06-06T00:08:39.892741Z",
     "iopub.status.idle": "2021-06-06T00:08:39.915216Z",
     "shell.execute_reply": "2021-06-06T00:08:39.915922Z",
     "shell.execute_reply.started": "2021-06-06T00:00:50.853903Z"
    },
    "papermill": {
     "duration": 0.044379,
     "end_time": "2021-06-06T00:08:39.916350",
     "exception": false,
     "start_time": "2021-06-06T00:08:39.871971",
     "status": "completed"
    },
    "tags": []
   },
   "outputs": [
    {
     "name": "stdout",
     "output_type": "stream",
     "text": [
      "/kaggle/input/bearing-classification/bearing_signals.csv\n",
      "/kaggle/input/bearing-classification/bearing_classes.csv\n"
     ]
    }
   ],
   "source": [
    "import numpy as np # linear algebra\n",
    "import pandas as pd # data processing, CSV file I/O (e.g. pd.read_csv)\n",
    "\n",
    "import os\n",
    "for dirname, _, filenames in os.walk('/kaggle/input'):\n",
    "    for filename in filenames:\n",
    "        print(os.path.join(dirname, filename))"
   ]
  },
  {
   "cell_type": "code",
   "execution_count": 2,
   "id": "regulated-establishment",
   "metadata": {
    "execution": {
     "iopub.execute_input": "2021-06-06T00:08:39.946841Z",
     "iopub.status.busy": "2021-06-06T00:08:39.946154Z",
     "iopub.status.idle": "2021-06-06T00:09:27.667538Z",
     "shell.execute_reply": "2021-06-06T00:09:27.667983Z",
     "shell.execute_reply.started": "2021-06-06T00:01:35.848947Z"
    },
    "papermill": {
     "duration": 47.739218,
     "end_time": "2021-06-06T00:09:27.668201",
     "exception": false,
     "start_time": "2021-06-06T00:08:39.928983",
     "status": "completed"
    },
    "tags": []
   },
   "outputs": [
    {
     "name": "stderr",
     "output_type": "stream",
     "text": [
      "/opt/conda/lib/python3.7/site-packages/IPython/core/interactiveshell.py:3156: DtypeWarning: Columns (0,1,2,3,4,5,6,7,8,9,10,11,12) have mixed types.Specify dtype option on import or set low_memory=False.\n",
      "  interactivity=interactivity, compiler=compiler, result=result)\n"
     ]
    },
    {
     "data": {
      "text/html": [
       "<div>\n",
       "<style scoped>\n",
       "    .dataframe tbody tr th:only-of-type {\n",
       "        vertical-align: middle;\n",
       "    }\n",
       "\n",
       "    .dataframe tbody tr th {\n",
       "        vertical-align: top;\n",
       "    }\n",
       "\n",
       "    .dataframe thead th {\n",
       "        text-align: right;\n",
       "    }\n",
       "</style>\n",
       "<table border=\"1\" class=\"dataframe\">\n",
       "  <thead>\n",
       "    <tr style=\"text-align: right;\">\n",
       "      <th></th>\n",
       "      <th>experiment_id</th>\n",
       "      <th>bearing_1_id</th>\n",
       "      <th>bearing_2_id</th>\n",
       "      <th>timestamp</th>\n",
       "      <th>a1_x</th>\n",
       "      <th>a1_y</th>\n",
       "      <th>a1_z</th>\n",
       "      <th>a2_x</th>\n",
       "      <th>a2_y</th>\n",
       "      <th>a2_z</th>\n",
       "      <th>prm</th>\n",
       "      <th>hz</th>\n",
       "      <th>w</th>\n",
       "    </tr>\n",
       "  </thead>\n",
       "  <tbody>\n",
       "    <tr>\n",
       "      <th>0</th>\n",
       "      <td>1</td>\n",
       "      <td>0</td>\n",
       "      <td>1</td>\n",
       "      <td>0.0</td>\n",
       "      <td>0.113269</td>\n",
       "      <td>0.149706</td>\n",
       "      <td>-0.110275</td>\n",
       "      <td>-0.18603</td>\n",
       "      <td>0.19445</td>\n",
       "      <td>0.454299</td>\n",
       "      <td>0.0</td>\n",
       "      <td>0.0</td>\n",
       "      <td>0.000006</td>\n",
       "    </tr>\n",
       "    <tr>\n",
       "      <th>1</th>\n",
       "      <td>1</td>\n",
       "      <td>0</td>\n",
       "      <td>1</td>\n",
       "      <td>0.000333</td>\n",
       "      <td>-0.367713</td>\n",
       "      <td>-0.228832</td>\n",
       "      <td>0.177821</td>\n",
       "      <td>0.285992</td>\n",
       "      <td>0.002226</td>\n",
       "      <td>-0.04393</td>\n",
       "      <td>0.0</td>\n",
       "      <td>0.0</td>\n",
       "      <td>0.000243</td>\n",
       "    </tr>\n",
       "    <tr>\n",
       "      <th>2</th>\n",
       "      <td>1</td>\n",
       "      <td>0</td>\n",
       "      <td>1</td>\n",
       "      <td>0.000667</td>\n",
       "      <td>0.113269</td>\n",
       "      <td>0.149706</td>\n",
       "      <td>-0.398371</td>\n",
       "      <td>-0.091625</td>\n",
       "      <td>0.002226</td>\n",
       "      <td>0.454299</td>\n",
       "      <td>0.0</td>\n",
       "      <td>0.0</td>\n",
       "      <td>0.000369</td>\n",
       "    </tr>\n",
       "    <tr>\n",
       "      <th>3</th>\n",
       "      <td>1</td>\n",
       "      <td>0</td>\n",
       "      <td>1</td>\n",
       "      <td>0.001</td>\n",
       "      <td>-0.17532</td>\n",
       "      <td>-0.228832</td>\n",
       "      <td>-0.110275</td>\n",
       "      <td>0.285992</td>\n",
       "      <td>0.002226</td>\n",
       "      <td>0.255007</td>\n",
       "      <td>0.0</td>\n",
       "      <td>0.0</td>\n",
       "      <td>0.00052</td>\n",
       "    </tr>\n",
       "    <tr>\n",
       "      <th>4</th>\n",
       "      <td>1</td>\n",
       "      <td>0</td>\n",
       "      <td>1</td>\n",
       "      <td>0.001333</td>\n",
       "      <td>-0.079124</td>\n",
       "      <td>0.055072</td>\n",
       "      <td>-0.110275</td>\n",
       "      <td>0.191588</td>\n",
       "      <td>0.002226</td>\n",
       "      <td>0.255007</td>\n",
       "      <td>0.0</td>\n",
       "      <td>0.0</td>\n",
       "      <td>0.000175</td>\n",
       "    </tr>\n",
       "    <tr>\n",
       "      <th>...</th>\n",
       "      <td>...</td>\n",
       "      <td>...</td>\n",
       "      <td>...</td>\n",
       "      <td>...</td>\n",
       "      <td>...</td>\n",
       "      <td>...</td>\n",
       "      <td>...</td>\n",
       "      <td>...</td>\n",
       "      <td>...</td>\n",
       "      <td>...</td>\n",
       "      <td>...</td>\n",
       "      <td>...</td>\n",
       "      <td>...</td>\n",
       "    </tr>\n",
       "    <tr>\n",
       "      <th>9301496</th>\n",
       "      <td>102</td>\n",
       "      <td>0</td>\n",
       "      <td>102</td>\n",
       "      <td>35.498333</td>\n",
       "      <td>-0.17532</td>\n",
       "      <td>-0.134197</td>\n",
       "      <td>-0.014243</td>\n",
       "      <td>-0.091625</td>\n",
       "      <td>0.002226</td>\n",
       "      <td>-0.243222</td>\n",
       "      <td>164.083865</td>\n",
       "      <td>2.734731</td>\n",
       "      <td>0.000578</td>\n",
       "    </tr>\n",
       "    <tr>\n",
       "      <th>9301497</th>\n",
       "      <td>102</td>\n",
       "      <td>0</td>\n",
       "      <td>102</td>\n",
       "      <td>35.498667</td>\n",
       "      <td>-0.560106</td>\n",
       "      <td>0.055072</td>\n",
       "      <td>0.177821</td>\n",
       "      <td>0.097183</td>\n",
       "      <td>-0.286109</td>\n",
       "      <td>-0.641806</td>\n",
       "      <td>164.083865</td>\n",
       "      <td>2.734731</td>\n",
       "      <td>0.001214</td>\n",
       "    </tr>\n",
       "    <tr>\n",
       "      <th>9301498</th>\n",
       "      <td>102</td>\n",
       "      <td>0</td>\n",
       "      <td>102</td>\n",
       "      <td>35.499</td>\n",
       "      <td>-0.17532</td>\n",
       "      <td>-0.134197</td>\n",
       "      <td>-0.398371</td>\n",
       "      <td>-0.091625</td>\n",
       "      <td>0.19445</td>\n",
       "      <td>-0.143576</td>\n",
       "      <td>164.083865</td>\n",
       "      <td>2.734731</td>\n",
       "      <td>0.118814</td>\n",
       "    </tr>\n",
       "    <tr>\n",
       "      <th>9301499</th>\n",
       "      <td>102</td>\n",
       "      <td>0</td>\n",
       "      <td>102</td>\n",
       "      <td>35.499333</td>\n",
       "      <td>-0.17532</td>\n",
       "      <td>-0.039563</td>\n",
       "      <td>-0.014243</td>\n",
       "      <td>0.002779</td>\n",
       "      <td>-0.286109</td>\n",
       "      <td>-0.342868</td>\n",
       "      <td>164.083865</td>\n",
       "      <td>2.734731</td>\n",
       "      <td>0.03075</td>\n",
       "    </tr>\n",
       "    <tr>\n",
       "      <th>9301500</th>\n",
       "      <td>102</td>\n",
       "      <td>0</td>\n",
       "      <td>102</td>\n",
       "      <td>35.499667</td>\n",
       "      <td>-0.17532</td>\n",
       "      <td>-0.228832</td>\n",
       "      <td>-0.686467</td>\n",
       "      <td>0.285992</td>\n",
       "      <td>0.19445</td>\n",
       "      <td>-0.243222</td>\n",
       "      <td>164.083865</td>\n",
       "      <td>2.734731</td>\n",
       "      <td>0.012211</td>\n",
       "    </tr>\n",
       "  </tbody>\n",
       "</table>\n",
       "<p>9301501 rows × 13 columns</p>\n",
       "</div>"
      ],
      "text/plain": [
       "        experiment_id bearing_1_id bearing_2_id  timestamp      a1_x  \\\n",
       "0                   1            0            1        0.0  0.113269   \n",
       "1                   1            0            1   0.000333 -0.367713   \n",
       "2                   1            0            1   0.000667  0.113269   \n",
       "3                   1            0            1      0.001  -0.17532   \n",
       "4                   1            0            1   0.001333 -0.079124   \n",
       "...               ...          ...          ...        ...       ...   \n",
       "9301496           102            0          102  35.498333  -0.17532   \n",
       "9301497           102            0          102  35.498667 -0.560106   \n",
       "9301498           102            0          102     35.499  -0.17532   \n",
       "9301499           102            0          102  35.499333  -0.17532   \n",
       "9301500           102            0          102  35.499667  -0.17532   \n",
       "\n",
       "             a1_y      a1_z      a2_x      a2_y      a2_z         prm  \\\n",
       "0        0.149706 -0.110275  -0.18603   0.19445  0.454299         0.0   \n",
       "1       -0.228832  0.177821  0.285992  0.002226  -0.04393         0.0   \n",
       "2        0.149706 -0.398371 -0.091625  0.002226  0.454299         0.0   \n",
       "3       -0.228832 -0.110275  0.285992  0.002226  0.255007         0.0   \n",
       "4        0.055072 -0.110275  0.191588  0.002226  0.255007         0.0   \n",
       "...           ...       ...       ...       ...       ...         ...   \n",
       "9301496 -0.134197 -0.014243 -0.091625  0.002226 -0.243222  164.083865   \n",
       "9301497  0.055072  0.177821  0.097183 -0.286109 -0.641806  164.083865   \n",
       "9301498 -0.134197 -0.398371 -0.091625   0.19445 -0.143576  164.083865   \n",
       "9301499 -0.039563 -0.014243  0.002779 -0.286109 -0.342868  164.083865   \n",
       "9301500 -0.228832 -0.686467  0.285992   0.19445 -0.243222  164.083865   \n",
       "\n",
       "               hz         w  \n",
       "0             0.0  0.000006  \n",
       "1             0.0  0.000243  \n",
       "2             0.0  0.000369  \n",
       "3             0.0   0.00052  \n",
       "4             0.0  0.000175  \n",
       "...           ...       ...  \n",
       "9301496  2.734731  0.000578  \n",
       "9301497  2.734731  0.001214  \n",
       "9301498  2.734731  0.118814  \n",
       "9301499  2.734731   0.03075  \n",
       "9301500  2.734731  0.012211  \n",
       "\n",
       "[9301501 rows x 13 columns]"
      ]
     },
     "execution_count": 2,
     "metadata": {},
     "output_type": "execute_result"
    }
   ],
   "source": [
    "signals = pd.read_csv('/kaggle/input/bearing-classification/bearing_signals.csv')\n",
    "signals"
   ]
  },
  {
   "cell_type": "code",
   "execution_count": 3,
   "id": "metric-valentine",
   "metadata": {
    "execution": {
     "iopub.execute_input": "2021-06-06T00:09:27.694647Z",
     "iopub.status.busy": "2021-06-06T00:09:27.693942Z",
     "iopub.status.idle": "2021-06-06T00:09:27.715019Z",
     "shell.execute_reply": "2021-06-06T00:09:27.714475Z",
     "shell.execute_reply.started": "2021-06-06T00:02:48.737965Z"
    },
    "papermill": {
     "duration": 0.035548,
     "end_time": "2021-06-06T00:09:27.715165",
     "exception": false,
     "start_time": "2021-06-06T00:09:27.679617",
     "status": "completed"
    },
    "tags": []
   },
   "outputs": [
    {
     "data": {
      "text/html": [
       "<div>\n",
       "<style scoped>\n",
       "    .dataframe tbody tr th:only-of-type {\n",
       "        vertical-align: middle;\n",
       "    }\n",
       "\n",
       "    .dataframe tbody tr th {\n",
       "        vertical-align: top;\n",
       "    }\n",
       "\n",
       "    .dataframe thead th {\n",
       "        text-align: right;\n",
       "    }\n",
       "</style>\n",
       "<table border=\"1\" class=\"dataframe\">\n",
       "  <thead>\n",
       "    <tr style=\"text-align: right;\">\n",
       "      <th></th>\n",
       "      <th>bearing_id</th>\n",
       "      <th>status</th>\n",
       "    </tr>\n",
       "  </thead>\n",
       "  <tbody>\n",
       "    <tr>\n",
       "      <th>0</th>\n",
       "      <td>0</td>\n",
       "      <td>1</td>\n",
       "    </tr>\n",
       "    <tr>\n",
       "      <th>1</th>\n",
       "      <td>1</td>\n",
       "      <td>0</td>\n",
       "    </tr>\n",
       "    <tr>\n",
       "      <th>2</th>\n",
       "      <td>2</td>\n",
       "      <td>0</td>\n",
       "    </tr>\n",
       "    <tr>\n",
       "      <th>3</th>\n",
       "      <td>3</td>\n",
       "      <td>0</td>\n",
       "    </tr>\n",
       "    <tr>\n",
       "      <th>4</th>\n",
       "      <td>4</td>\n",
       "      <td>0</td>\n",
       "    </tr>\n",
       "    <tr>\n",
       "      <th>...</th>\n",
       "      <td>...</td>\n",
       "      <td>...</td>\n",
       "    </tr>\n",
       "    <tr>\n",
       "      <th>98</th>\n",
       "      <td>98</td>\n",
       "      <td>0</td>\n",
       "    </tr>\n",
       "    <tr>\n",
       "      <th>99</th>\n",
       "      <td>99</td>\n",
       "      <td>0</td>\n",
       "    </tr>\n",
       "    <tr>\n",
       "      <th>100</th>\n",
       "      <td>100</td>\n",
       "      <td>0</td>\n",
       "    </tr>\n",
       "    <tr>\n",
       "      <th>101</th>\n",
       "      <td>101</td>\n",
       "      <td>1</td>\n",
       "    </tr>\n",
       "    <tr>\n",
       "      <th>102</th>\n",
       "      <td>102</td>\n",
       "      <td>1</td>\n",
       "    </tr>\n",
       "  </tbody>\n",
       "</table>\n",
       "<p>103 rows × 2 columns</p>\n",
       "</div>"
      ],
      "text/plain": [
       "     bearing_id  status\n",
       "0             0       1\n",
       "1             1       0\n",
       "2             2       0\n",
       "3             3       0\n",
       "4             4       0\n",
       "..          ...     ...\n",
       "98           98       0\n",
       "99           99       0\n",
       "100         100       0\n",
       "101         101       1\n",
       "102         102       1\n",
       "\n",
       "[103 rows x 2 columns]"
      ]
     },
     "execution_count": 3,
     "metadata": {},
     "output_type": "execute_result"
    }
   ],
   "source": [
    "labels = pd.read_csv('/kaggle/input/bearing-classification/bearing_classes.csv')\n",
    "labels"
   ]
  },
  {
   "cell_type": "code",
   "execution_count": 4,
   "id": "lonely-studio",
   "metadata": {
    "execution": {
     "iopub.execute_input": "2021-06-06T00:09:28.853131Z",
     "iopub.status.busy": "2021-06-06T00:09:28.852416Z",
     "iopub.status.idle": "2021-06-06T00:09:28.896577Z",
     "shell.execute_reply": "2021-06-06T00:09:28.895884Z",
     "shell.execute_reply.started": "2021-06-06T00:06:25.806797Z"
    },
    "papermill": {
     "duration": 1.169846,
     "end_time": "2021-06-06T00:09:28.896750",
     "exception": false,
     "start_time": "2021-06-06T00:09:27.726904",
     "status": "completed"
    },
    "tags": []
   },
   "outputs": [
    {
     "data": {
      "text/html": [
       "<div>\n",
       "<style scoped>\n",
       "    .dataframe tbody tr th:only-of-type {\n",
       "        vertical-align: middle;\n",
       "    }\n",
       "\n",
       "    .dataframe tbody tr th {\n",
       "        vertical-align: top;\n",
       "    }\n",
       "\n",
       "    .dataframe thead th {\n",
       "        text-align: right;\n",
       "    }\n",
       "</style>\n",
       "<table border=\"1\" class=\"dataframe\">\n",
       "  <thead>\n",
       "    <tr style=\"text-align: right;\">\n",
       "      <th></th>\n",
       "      <th>experiment_id</th>\n",
       "      <th>bearing_1_id</th>\n",
       "      <th>bearing_2_id</th>\n",
       "      <th>timestamp</th>\n",
       "      <th>a1_x</th>\n",
       "      <th>a1_y</th>\n",
       "      <th>a1_z</th>\n",
       "      <th>a2_x</th>\n",
       "      <th>a2_y</th>\n",
       "      <th>a2_z</th>\n",
       "      <th>prm</th>\n",
       "      <th>hz</th>\n",
       "      <th>w</th>\n",
       "    </tr>\n",
       "  </thead>\n",
       "  <tbody>\n",
       "    <tr>\n",
       "      <th>1026900</th>\n",
       "      <td>13</td>\n",
       "      <td>0</td>\n",
       "      <td>13</td>\n",
       "      <td>0.0</td>\n",
       "      <td>-0.079124</td>\n",
       "      <td>-0.039563</td>\n",
       "      <td>-0.398371</td>\n",
       "      <td>0.191588</td>\n",
       "      <td>0.290562</td>\n",
       "      <td>0.055715</td>\n",
       "      <td>0.0</td>\n",
       "      <td>0.0</td>\n",
       "      <td>0.00052</td>\n",
       "    </tr>\n",
       "    <tr>\n",
       "      <th>1026901</th>\n",
       "      <td>13</td>\n",
       "      <td>0</td>\n",
       "      <td>13</td>\n",
       "      <td>0.000333</td>\n",
       "      <td>-0.367713</td>\n",
       "      <td>0.244341</td>\n",
       "      <td>-0.302339</td>\n",
       "      <td>0.285992</td>\n",
       "      <td>-0.189997</td>\n",
       "      <td>0.155361</td>\n",
       "      <td>0.0</td>\n",
       "      <td>0.0</td>\n",
       "      <td>0.000243</td>\n",
       "    </tr>\n",
       "    <tr>\n",
       "      <th>1026902</th>\n",
       "      <td>13</td>\n",
       "      <td>0</td>\n",
       "      <td>13</td>\n",
       "      <td>0.000667</td>\n",
       "      <td>-0.17532</td>\n",
       "      <td>0.055072</td>\n",
       "      <td>-0.302339</td>\n",
       "      <td>0.285992</td>\n",
       "      <td>0.098338</td>\n",
       "      <td>0.055715</td>\n",
       "      <td>0.0</td>\n",
       "      <td>0.0</td>\n",
       "      <td>0.000697</td>\n",
       "    </tr>\n",
       "    <tr>\n",
       "      <th>1026903</th>\n",
       "      <td>13</td>\n",
       "      <td>0</td>\n",
       "      <td>13</td>\n",
       "      <td>0.001</td>\n",
       "      <td>0.017072</td>\n",
       "      <td>0.149706</td>\n",
       "      <td>-0.302339</td>\n",
       "      <td>0.002779</td>\n",
       "      <td>0.098338</td>\n",
       "      <td>0.155361</td>\n",
       "      <td>0.0</td>\n",
       "      <td>0.0</td>\n",
       "      <td>0.000697</td>\n",
       "    </tr>\n",
       "    <tr>\n",
       "      <th>1026904</th>\n",
       "      <td>13</td>\n",
       "      <td>0</td>\n",
       "      <td>13</td>\n",
       "      <td>0.001333</td>\n",
       "      <td>-0.271517</td>\n",
       "      <td>-0.228832</td>\n",
       "      <td>-0.110275</td>\n",
       "      <td>0.380396</td>\n",
       "      <td>0.098338</td>\n",
       "      <td>-0.243222</td>\n",
       "      <td>0.0</td>\n",
       "      <td>0.0</td>\n",
       "      <td>0.000697</td>\n",
       "    </tr>\n",
       "    <tr>\n",
       "      <th>...</th>\n",
       "      <td>...</td>\n",
       "      <td>...</td>\n",
       "      <td>...</td>\n",
       "      <td>...</td>\n",
       "      <td>...</td>\n",
       "      <td>...</td>\n",
       "      <td>...</td>\n",
       "      <td>...</td>\n",
       "      <td>...</td>\n",
       "      <td>...</td>\n",
       "      <td>...</td>\n",
       "      <td>...</td>\n",
       "      <td>...</td>\n",
       "    </tr>\n",
       "    <tr>\n",
       "      <th>1114195</th>\n",
       "      <td>13</td>\n",
       "      <td>0</td>\n",
       "      <td>13</td>\n",
       "      <td>29.098333</td>\n",
       "      <td>-0.271517</td>\n",
       "      <td>-0.134197</td>\n",
       "      <td>-0.302339</td>\n",
       "      <td>-0.374838</td>\n",
       "      <td>-0.382221</td>\n",
       "      <td>-0.04393</td>\n",
       "      <td>267.857143</td>\n",
       "      <td>4.464286</td>\n",
       "      <td>0.003188</td>\n",
       "    </tr>\n",
       "    <tr>\n",
       "      <th>1114196</th>\n",
       "      <td>13</td>\n",
       "      <td>0</td>\n",
       "      <td>13</td>\n",
       "      <td>29.098667</td>\n",
       "      <td>0.017072</td>\n",
       "      <td>-0.228832</td>\n",
       "      <td>-0.87853</td>\n",
       "      <td>-0.563647</td>\n",
       "      <td>-0.382221</td>\n",
       "      <td>-0.143576</td>\n",
       "      <td>267.857143</td>\n",
       "      <td>4.464286</td>\n",
       "      <td>0.008554</td>\n",
       "    </tr>\n",
       "    <tr>\n",
       "      <th>1114197</th>\n",
       "      <td>13</td>\n",
       "      <td>0</td>\n",
       "      <td>13</td>\n",
       "      <td>29.099</td>\n",
       "      <td>-0.271517</td>\n",
       "      <td>-0.134197</td>\n",
       "      <td>-0.398371</td>\n",
       "      <td>-0.469243</td>\n",
       "      <td>-0.670557</td>\n",
       "      <td>-0.143576</td>\n",
       "      <td>267.857143</td>\n",
       "      <td>4.464286</td>\n",
       "      <td>0.228486</td>\n",
       "    </tr>\n",
       "    <tr>\n",
       "      <th>1114198</th>\n",
       "      <td>13</td>\n",
       "      <td>0</td>\n",
       "      <td>13</td>\n",
       "      <td>29.099333</td>\n",
       "      <td>0.017072</td>\n",
       "      <td>0.055072</td>\n",
       "      <td>-0.494403</td>\n",
       "      <td>-0.469243</td>\n",
       "      <td>-0.574445</td>\n",
       "      <td>-0.143576</td>\n",
       "      <td>267.857143</td>\n",
       "      <td>4.464286</td>\n",
       "      <td>0.04169</td>\n",
       "    </tr>\n",
       "    <tr>\n",
       "      <th>1114199</th>\n",
       "      <td>13</td>\n",
       "      <td>0</td>\n",
       "      <td>13</td>\n",
       "      <td>29.099667</td>\n",
       "      <td>0.209465</td>\n",
       "      <td>0.149706</td>\n",
       "      <td>-0.398371</td>\n",
       "      <td>-0.374838</td>\n",
       "      <td>-0.286109</td>\n",
       "      <td>-0.143576</td>\n",
       "      <td>267.857143</td>\n",
       "      <td>4.464286</td>\n",
       "      <td>0.019412</td>\n",
       "    </tr>\n",
       "  </tbody>\n",
       "</table>\n",
       "<p>87300 rows × 13 columns</p>\n",
       "</div>"
      ],
      "text/plain": [
       "        experiment_id bearing_1_id bearing_2_id  timestamp      a1_x  \\\n",
       "1026900            13            0           13        0.0 -0.079124   \n",
       "1026901            13            0           13   0.000333 -0.367713   \n",
       "1026902            13            0           13   0.000667  -0.17532   \n",
       "1026903            13            0           13      0.001  0.017072   \n",
       "1026904            13            0           13   0.001333 -0.271517   \n",
       "...               ...          ...          ...        ...       ...   \n",
       "1114195            13            0           13  29.098333 -0.271517   \n",
       "1114196            13            0           13  29.098667  0.017072   \n",
       "1114197            13            0           13     29.099 -0.271517   \n",
       "1114198            13            0           13  29.099333  0.017072   \n",
       "1114199            13            0           13  29.099667  0.209465   \n",
       "\n",
       "             a1_y      a1_z      a2_x      a2_y      a2_z         prm  \\\n",
       "1026900 -0.039563 -0.398371  0.191588  0.290562  0.055715         0.0   \n",
       "1026901  0.244341 -0.302339  0.285992 -0.189997  0.155361         0.0   \n",
       "1026902  0.055072 -0.302339  0.285992  0.098338  0.055715         0.0   \n",
       "1026903  0.149706 -0.302339  0.002779  0.098338  0.155361         0.0   \n",
       "1026904 -0.228832 -0.110275  0.380396  0.098338 -0.243222         0.0   \n",
       "...           ...       ...       ...       ...       ...         ...   \n",
       "1114195 -0.134197 -0.302339 -0.374838 -0.382221  -0.04393  267.857143   \n",
       "1114196 -0.228832  -0.87853 -0.563647 -0.382221 -0.143576  267.857143   \n",
       "1114197 -0.134197 -0.398371 -0.469243 -0.670557 -0.143576  267.857143   \n",
       "1114198  0.055072 -0.494403 -0.469243 -0.574445 -0.143576  267.857143   \n",
       "1114199  0.149706 -0.398371 -0.374838 -0.286109 -0.143576  267.857143   \n",
       "\n",
       "               hz         w  \n",
       "1026900       0.0   0.00052  \n",
       "1026901       0.0  0.000243  \n",
       "1026902       0.0  0.000697  \n",
       "1026903       0.0  0.000697  \n",
       "1026904       0.0  0.000697  \n",
       "...           ...       ...  \n",
       "1114195  4.464286  0.003188  \n",
       "1114196  4.464286  0.008554  \n",
       "1114197  4.464286  0.228486  \n",
       "1114198  4.464286   0.04169  \n",
       "1114199  4.464286  0.019412  \n",
       "\n",
       "[87300 rows x 13 columns]"
      ]
     },
     "execution_count": 4,
     "metadata": {},
     "output_type": "execute_result"
    }
   ],
   "source": [
    "signals[(signals['experiment_id']==13)]"
   ]
  },
  {
   "cell_type": "code",
   "execution_count": 5,
   "id": "arctic-portland",
   "metadata": {
    "execution": {
     "iopub.execute_input": "2021-06-06T00:09:30.045257Z",
     "iopub.status.busy": "2021-06-06T00:09:30.044557Z",
     "iopub.status.idle": "2021-06-06T00:09:30.340729Z",
     "shell.execute_reply": "2021-06-06T00:09:30.340063Z",
     "shell.execute_reply.started": "2021-06-06T00:06:47.258909Z"
    },
    "papermill": {
     "duration": 1.43109,
     "end_time": "2021-06-06T00:09:30.340882",
     "exception": false,
     "start_time": "2021-06-06T00:09:28.909792",
     "status": "completed"
    },
    "tags": []
   },
   "outputs": [
    {
     "data": {
      "text/plain": [
       "<AxesSubplot:>"
      ]
     },
     "execution_count": 5,
     "metadata": {},
     "output_type": "execute_result"
    },
    {
     "data": {
      "image/png": "[encoded data removed]",
      "text/plain": [
       "<Figure size 432x288 with 1 Axes>"
      ]
     },
     "metadata": {
      "needs_background": "light"
     },
     "output_type": "display_data"
    }
   ],
   "source": [
    "signals[(signals['experiment_id']==13)]['a1_x'].plot()"
   ]
  },
  {
   "cell_type": "code",
   "execution_count": 6,
   "id": "above-curve",
   "metadata": {
    "execution": {
     "iopub.execute_input": "2021-06-06T00:09:30.371450Z",
     "iopub.status.busy": "2021-06-06T00:09:30.370779Z",
     "iopub.status.idle": "2021-06-06T00:09:31.690213Z",
     "shell.execute_reply": "2021-06-06T00:09:31.690709Z",
     "shell.execute_reply.started": "2021-06-06T00:06:58.287036Z"
    },
    "papermill": {
     "duration": 1.33625,
     "end_time": "2021-06-06T00:09:31.690908",
     "exception": false,
     "start_time": "2021-06-06T00:09:30.354658",
     "status": "completed"
    },
    "tags": []
   },
   "outputs": [
    {
     "data": {
      "text/plain": [
       "<AxesSubplot:>"
      ]
     },
     "execution_count": 6,
     "metadata": {},
     "output_type": "execute_result"
    },
    {
     "data": {
      "image/png": "[encoded data removed]",
      "text/plain": [
       "<Figure size 432x288 with 1 Axes>"
      ]
     },
     "metadata": {
      "needs_background": "light"
     },
     "output_type": "display_data"
    }
   ],
   "source": [
    "signals[(signals['experiment_id']==13)]['a1_y'].plot()"
   ]
  },
  {
   "cell_type": "code",
   "execution_count": 7,
   "id": "wooden-genealogy",
   "metadata": {
    "execution": {
     "iopub.execute_input": "2021-06-06T00:09:31.724865Z",
     "iopub.status.busy": "2021-06-06T00:09:31.724194Z",
     "iopub.status.idle": "2021-06-06T00:09:33.062216Z",
     "shell.execute_reply": "2021-06-06T00:09:33.061652Z",
     "shell.execute_reply.started": "2021-06-06T00:07:08.185147Z"
    },
    "papermill": {
     "duration": 1.356048,
     "end_time": "2021-06-06T00:09:33.062405",
     "exception": false,
     "start_time": "2021-06-06T00:09:31.706357",
     "status": "completed"
    },
    "tags": []
   },
   "outputs": [
    {
     "data": {
      "text/plain": [
       "<AxesSubplot:>"
      ]
     },
     "execution_count": 7,
     "metadata": {},
     "output_type": "execute_result"
    },
    {
     "data": {
      "image/png": "[encoded data removed]",
      "text/plain": [
       "<Figure size 432x288 with 1 Axes>"
      ]
     },
     "metadata": {
      "needs_background": "light"
     },
     "output_type": "display_data"
    }
   ],
   "source": [
    "signals[(signals['experiment_id']==13)]['a1_z'].plot()"
   ]
  },
  {
   "cell_type": "code",
   "execution_count": 8,
   "id": "graduate-crest",
   "metadata": {
    "execution": {
     "iopub.execute_input": "2021-06-06T00:09:34.220433Z",
     "iopub.status.busy": "2021-06-06T00:09:34.219700Z",
     "iopub.status.idle": "2021-06-06T00:09:34.434571Z",
     "shell.execute_reply": "2021-06-06T00:09:34.433950Z",
     "shell.execute_reply.started": "2021-06-06T00:07:16.470197Z"
    },
    "papermill": {
     "duration": 1.348636,
     "end_time": "2021-06-06T00:09:34.434748",
     "exception": false,
     "start_time": "2021-06-06T00:09:33.086112",
     "status": "completed"
    },
    "tags": []
   },
   "outputs": [
    {
     "data": {
      "text/plain": [
       "<AxesSubplot:>"
      ]
     },
     "execution_count": 8,
     "metadata": {},
     "output_type": "execute_result"
    },
    {
     "data": {
      "image/png": "[encoded data removed]",
      "text/plain": [
       "<Figure size 432x288 with 1 Axes>"
      ]
     },
     "metadata": {
      "needs_background": "light"
     },
     "output_type": "display_data"
    }
   ],
   "source": [
    "signals[(signals['experiment_id']==13)]['a2_x'].plot()"
   ]
  },
  {
   "cell_type": "code",
   "execution_count": 9,
   "id": "finished-constant",
   "metadata": {
    "execution": {
     "iopub.execute_input": "2021-06-06T00:09:35.617901Z",
     "iopub.status.busy": "2021-06-06T00:09:35.616847Z",
     "iopub.status.idle": "2021-06-06T00:09:35.818602Z",
     "shell.execute_reply": "2021-06-06T00:09:35.817471Z",
     "shell.execute_reply.started": "2021-06-06T00:07:27.377258Z"
    },
    "papermill": {
     "duration": 1.366207,
     "end_time": "2021-06-06T00:09:35.818767",
     "exception": false,
     "start_time": "2021-06-06T00:09:34.452560",
     "status": "completed"
    },
    "tags": []
   },
   "outputs": [
    {
     "data": {
      "text/plain": [
       "<AxesSubplot:>"
      ]
     },
     "execution_count": 9,
     "metadata": {},
     "output_type": "execute_result"
    },
    {
     "data": {
      "image/png": "[encoded data removed]",
      "text/plain": [
       "<Figure size 432x288 with 1 Axes>"
      ]
     },
     "metadata": {
      "needs_background": "light"
     },
     "output_type": "display_data"
    }
   ],
   "source": [
    "signals[(signals['experiment_id']==13)]['a2_y'].plot()"
   ]
  },
  {
   "cell_type": "code",
   "execution_count": 10,
   "id": "vocational-solid",
   "metadata": {
    "execution": {
     "iopub.execute_input": "2021-06-06T00:09:36.981187Z",
     "iopub.status.busy": "2021-06-06T00:09:36.980186Z",
     "iopub.status.idle": "2021-06-06T00:09:37.292130Z",
     "shell.execute_reply": "2021-06-06T00:09:37.292710Z",
     "shell.execute_reply.started": "2021-06-06T00:07:37.440499Z"
    },
    "papermill": {
     "duration": 1.455613,
     "end_time": "2021-06-06T00:09:37.292908",
     "exception": false,
     "start_time": "2021-06-06T00:09:35.837295",
     "status": "completed"
    },
    "tags": []
   },
   "outputs": [
    {
     "data": {
      "text/plain": [
       "<AxesSubplot:>"
      ]
     },
     "execution_count": 10,
     "metadata": {},
     "output_type": "execute_result"
    },
    {
     "data": {
      "image/png": "[encoded data removed]",
      "text/plain": [
       "<Figure size 432x288 with 1 Axes>"
      ]
     },
     "metadata": {
      "needs_background": "light"
     },
     "output_type": "display_data"
    }
   ],
   "source": [
    "signals[(signals['experiment_id']==13)]['a2_z'].plot()"
   ]
  },
  {
   "cell_type": "code",
   "execution_count": null,
   "id": "pointed-lover",
   "metadata": {
    "papermill": {
     "duration": 0.019275,
     "end_time": "2021-06-06T00:09:37.331865",
     "exception": false,
     "start_time": "2021-06-06T00:09:37.312590",
     "status": "completed"
    },
    "tags": []
   },
   "outputs": [],
   "source": []
  }
 ],
 "metadata": {
  "kernelspec": {
   "display_name": "Python 3",
   "language": "python",
   "name": "python3"
  },
  "language_info": {
   "codemirror_mode": {
    "name": "ipython",
    "version": 3
   },
   "file_extension": ".py",
   "mimetype": "text/x-python",
   "name": "python",
   "nbconvert_exporter": "python",
   "pygments_lexer": "ipython3",
   "version": "3.7.9"
  },
  "papermill": {
   "default_parameters": {},
   "duration": 67.007967,
   "end_time": "2021-06-06T00:09:40.371879",
   "environment_variables": {},
   "exception": null,
   "input_path": "__notebook__.ipynb",
   "output_path": "__notebook__.ipynb",
   "parameters": {},
   "start_time": "2021-06-06T00:08:33.363912",
   "version": "2.3.2"
  }
 },
 "nbformat": 4,
 "nbformat_minor": 5
}
